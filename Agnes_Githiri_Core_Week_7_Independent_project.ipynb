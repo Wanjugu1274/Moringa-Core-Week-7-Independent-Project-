{
  "nbformat": 4,
  "nbformat_minor": 0,
  "metadata": {
    "colab": {
      "name": "Agnes Githiri Core Week 7 Independent project",
      "provenance": [],
      "collapsed_sections": [],
      "toc_visible": true
    },
    "kernelspec": {
      "name": "python3",
      "display_name": "Python 3"
    },
    "language_info": {
      "name": "python"
    }
  },
  "cells": [
    {
      "cell_type": "markdown",
      "source": [
        "# 1) Defining the Question"
      ],
      "metadata": {
        "id": "renj46hNud6S"
      }
    },
    {
      "cell_type": "markdown",
      "source": [
        "## a) Specifying the Question"
      ],
      "metadata": {
        "id": "Vk-xUg6wug3j"
      }
    },
    {
      "cell_type": "markdown",
      "source": [
        "a) The objective is to build a model that predicts the price of houses given information on real estate propeties collected few months ago.\n",
        "\n",
        "b) To exhibit the relationship between the different housing aspects and sale prices."
      ],
      "metadata": {
        "id": "614btO1vvtzX"
      }
    },
    {
      "cell_type": "markdown",
      "source": [
        "## b) Defining the Metric for Success"
      ],
      "metadata": {
        "id": "kV_7yzeQuoj9"
      }
    },
    {
      "cell_type": "markdown",
      "source": [
        "Successfully having a model that has a RMSE which is less than 10% of the mean of the housing prices."
      ],
      "metadata": {
        "id": "ehWT5aTawxS0"
      }
    },
    {
      "cell_type": "markdown",
      "source": [
        "## c) Understanding the context"
      ],
      "metadata": {
        "id": "uVb28C-3uyqx"
      }
    },
    {
      "cell_type": "markdown",
      "source": [
        "As a Data Scientist, working for Hass Consulting Company which is a real estate leader with over 25 years of experience, I have been tasked to study the factors that affect housing prices using the given information on real estate properties that was collected over the past few months. Later onwards, I will create a model that will allow the company to accurately predict the sale of prices upon being provided with the predictor variables. "
      ],
      "metadata": {
        "id": "5P5CbZF8y764"
      }
    },
    {
      "cell_type": "markdown",
      "source": [
        "## d) Recording the Experimental Design\n"
      ],
      "metadata": {
        "id": "xZUSd2Xnu2ed"
      }
    },
    {
      "cell_type": "markdown",
      "source": [
        "1) Define the question, the metric for success, state the context and, record the experimental design taken.\n",
        "\n",
        "2) Import the libraries, disable future warnings, read and, explore the dataset provided.\n",
        "\n",
        "3) Define the appropriateness of the available data to answer the given question.\n",
        "\n",
        "4) Find and deal with outliers, anomalies, and missing data within the dataset.\n",
        "\n",
        "5) Perform univariate, bivariate and multivariate analysis recording the observations.\n",
        "\n",
        "6) Perform regression analysis by integrating categorical independent variables into the models and check for multicollinearity.\n",
        "\n",
        "7) Create residual plots for the models and assess heteroskedasticity using Barlett's test.\n",
        "\n",
        "8) Challenge the solution by providing insights on how to improve the model."
      ],
      "metadata": {
        "id": "hjf7SqMnzSka"
      }
    },
    {
      "cell_type": "markdown",
      "source": [
        "## e) Data Relevance"
      ],
      "metadata": {
        "id": "PsNVu8S1u-hg"
      }
    },
    {
      "cell_type": "markdown",
      "source": [
        "A dataset containing the data with different aspects of housing has been provided for this project."
      ],
      "metadata": {
        "id": "bKL0FjVm0bGG"
      }
    },
    {
      "cell_type": "markdown",
      "source": [
        "# 2) Import Libraries, Disable future warnings and set all floats to 2 decimal places"
      ],
      "metadata": {
        "id": "rCvagAi81Q-J"
      }
    },
    {
      "cell_type": "code",
      "source": [
        "# Import the necessary libraries\n",
        "import pandas as pd\n",
        "import numpy as np\n",
        "import matplotlib.pyplot as plt\n",
        "% matplotlib inline\n",
        "import seaborn as sns"
      ],
      "metadata": {
        "id": "J6QBRKxK1ug6"
      },
      "execution_count": 1,
      "outputs": []
    },
    {
      "cell_type": "code",
      "source": [
        "# Disable future warnings \n",
        "import warnings\n",
        "warnings.simplefilter(action='ignore', category=FutureWarning)\n",
        "pd.reset_option('all')"
      ],
      "metadata": {
        "colab": {
          "base_uri": "https://localhost:8080/"
        },
        "id": "npJhxO082Q7e",
        "outputId": "1b56592e-ab68-4fb8-acff-cd83c01113fd"
      },
      "execution_count": 2,
      "outputs": [
        {
          "output_type": "stream",
          "name": "stdout",
          "text": [
            "As the xlwt package is no longer maintained, the xlwt engine will be removed in a future version of pandas. This is the only engine in pandas that supports writing in the xls format. Install openpyxl and write to an xlsx file instead.\n",
            "\n",
            ": boolean\n",
            "    use_inf_as_null had been deprecated and will be removed in a future\n",
            "    version. Use `use_inf_as_na` instead.\n",
            "\n"
          ]
        }
      ]
    },
    {
      "cell_type": "code",
      "source": [
        "# Set all float results to have only two decimal places\n",
        "pd.set_option('display.float_format', lambda x: '%.2f' % x)"
      ],
      "metadata": {
        "id": "ztOEYUvW2k3G"
      },
      "execution_count": 3,
      "outputs": []
    },
    {
      "cell_type": "markdown",
      "source": [
        "# New Section"
      ],
      "metadata": {
        "id": "F3ZbWVyb17yC"
      }
    }
  ]
}